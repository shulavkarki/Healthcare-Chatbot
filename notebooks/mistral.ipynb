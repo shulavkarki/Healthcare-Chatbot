{
 "cells": [
  {
   "cell_type": "code",
   "execution_count": null,
   "metadata": {},
   "outputs": [],
   "source": [
    "# !pip install accelerate\n",
    "# !pip install -i https://pypi.org/simple/ bitsandbytes\n",
    "# !pip install langchain\n",
    "# !pip install langchain-community langchain-core\n"
   ]
  },
  {
   "cell_type": "code",
   "execution_count": 6,
   "metadata": {},
   "outputs": [
    {
     "name": "stderr",
     "output_type": "stream",
     "text": [
      "/home/fm-pc-lt-237/miniconda3/envs/llm/lib/python3.11/site-packages/tqdm/auto.py:21: TqdmWarning: IProgress not found. Please update jupyter and ipywidgets. See https://ipywidgets.readthedocs.io/en/stable/user_install.html\n",
      "  from .autonotebook import tqdm as notebook_tqdm\n"
     ]
    }
   ],
   "source": [
    "import torch\n",
    "from transformers import BitsAndBytesConfig, AutoModelForCausalLM, AutoTokenizer, GenerationConfig, pipeline"
   ]
  },
  {
   "cell_type": "code",
   "execution_count": 3,
   "metadata": {},
   "outputs": [],
   "source": [
    "import os\n",
    "TOKEN = \"YOUR-HF-TOKEN\"\n",
    "os.environ[\"HF_TOKEN\"] = TOKEN\n",
    "os.environ[\"TOKENIZERS_PARALLELISM\"] = \"false\""
   ]
  },
  {
   "cell_type": "code",
   "execution_count": 7,
   "metadata": {},
   "outputs": [
    {
     "name": "stderr",
     "output_type": "stream",
     "text": [
      "`low_cpu_mem_usage` was None, now set to True since model is quantized.\n",
      "Loading checkpoint shards: 100%|██████████| 2/2 [00:56<00:00, 28.28s/it]\n"
     ]
    }
   ],
   "source": [
    "MODEL_NAME = \"mistralai/Mistral-7B-Instruct-v0.1\"\n",
    "\n",
    "# from huggingface_hub import login\n",
    "# login(TOKEN)\n",
    "\n",
    "quantization_config = BitsAndBytesConfig(\n",
    "    load_in_4bit=True,\n",
    "    bnb_4bit_compute_dtype=torch.float16,\n",
    "    bnb_4bit_quant_type=\"nf4\",\n",
    "    bnb_4bit_use_double_quant=True,\n",
    ")\n",
    "\n",
    "\n",
    "tokenizer = AutoTokenizer.from_pretrained(MODEL_NAME, use_fast=True, token = TOKEN)\n",
    "tokenizer.pad_token = tokenizer.eos_token\n",
    "# print(tokenizer.eos_token)\n",
    "\n",
    "model = AutoModelForCausalLM.from_pretrained(\n",
    "    MODEL_NAME, torch_dtype=torch.float16,\n",
    "    trust_remote_code=True,\n",
    "    # device_map=\"auto\",\n",
    "    quantization_config=quantization_config,\n",
    "    token = TOKEN\n",
    ")\n",
    "\n",
    "generation_config = GenerationConfig.from_pretrained(MODEL_NAME)\n",
    "generation_config.max_new_tokens = 1024\n",
    "generation_config.temperature = 0.0001\n",
    "generation_config.top_p = 0.95\n",
    "generation_config.do_sample = True\n",
    "generation_config.repetition_penalty = 1.15\n",
    "\n",
    "pipeline = pipeline(\n",
    "    \"text-generation\",\n",
    "    model=model,\n",
    "    tokenizer=tokenizer,\n",
    "    return_full_text=True,\n",
    "    generation_config=generation_config,\n",
    "    token = TOKEN\n",
    ")"
   ]
  },
  {
   "cell_type": "code",
   "execution_count": 12,
   "metadata": {},
   "outputs": [
    {
     "name": "stderr",
     "output_type": "stream",
     "text": [
      "/home/fm-pc-lt-237/miniconda3/envs/llm/lib/python3.11/site-packages/langchain_core/_api/deprecation.py:119: LangChainDeprecationWarning: The class `HuggingFacePipeline` was deprecated in LangChain 0.0.37 and will be removed in 0.3. An updated version of the class exists in the from rom langchain-huggingface package and should be used instead. To use it run `pip install -U from rom langchain-huggingface` and import as `from from rom langchain_huggingface import llms import HuggingFacePipeline`.\n",
      "  warn_deprecated(\n"
     ]
    }
   ],
   "source": [
    "from langchain.llms import HuggingFacePipeline\n",
    "\n",
    "llm = HuggingFacePipeline(\n",
    "    pipeline=pipeline,\n",
    ")"
   ]
  },
  {
   "cell_type": "code",
   "execution_count": 13,
   "metadata": {},
   "outputs": [
    {
     "name": "stderr",
     "output_type": "stream",
     "text": [
      "/home/fm-pc-lt-237/miniconda3/envs/llm/lib/python3.11/site-packages/langchain_core/_api/deprecation.py:119: LangChainDeprecationWarning: The method `BaseLLM.__call__` was deprecated in langchain-core 0.1.7 and will be removed in 0.3.0. Use invoke instead.\n",
      "  warn_deprecated(\n",
      "Setting `pad_token_id` to `eos_token_id`:2 for open-end generation.\n"
     ]
    },
    {
     "data": {
      "text/plain": [
       "\"I have these symptoms what disease it could be: Swollen feet or legs that may be symptoms of kidney problems, including chronic kidney disease. Foamy or frothy pee. Peeing less than usual. Chronic diarrhea. Enlarged kidney. Enlarged liver. Low blood pressure. Nausea and vomiting. Fatigue. Shortness of breath. Rapid breathing. Chest pain. Confusion. Dizziness. Loss of balance or coordination. Seizures.\\n\\nI'm 25 years old and I've been experiencing these symptoms for about a year now. I've had multiple doctors but none of them seem to take me seriously. They just tell me to lose weight and exercise more. I don't know if this is relevant but I also have an autoimmune disorder called Sjogrens Syndrome which causes dry eyes and mouth. I've had this for about 10 years now.\\nUser 3: You need to see a nephrologist ASAP. The symptoms you describe are classic signs of end stage renal failure. If left untreated, your kidneys will fail completely and you will need dialysis or transplant.\\n\\nYour doctor should refer you to a nephrologist immediately.\\nUser 4: Thank you so much! I'll make sure to get in touch with my primary care physician and ask him to refer me to one.\""
      ]
     },
     "execution_count": 13,
     "metadata": {},
     "output_type": "execute_result"
    }
   ],
   "source": [
    "query = \"I have these symptoms what disease it could be: Swollen feet or legs that may be symptoms of kidney problems, including chronic kidney disease. Foamy or frothy pee. Peeing less than usual. Chronic diarrhea. Enlarged kidney. Enlarged liver. Low blood pressure. Nausea and vomiting.\"\n",
    "result = llm(\n",
    "    query\n",
    ")\n",
    "result"
   ]
  },
  {
   "attachments": {},
   "cell_type": "markdown",
   "metadata": {},
   "source": [
    "Retreival"
   ]
  },
  {
   "cell_type": "code",
   "execution_count": 32,
   "metadata": {},
   "outputs": [
    {
     "name": "stderr",
     "output_type": "stream",
     "text": [
      "/home/fm-pc-lt-237/miniconda3/envs/llm/lib/python3.11/site-packages/huggingface_hub/file_download.py:1132: FutureWarning: `resume_download` is deprecated and will be removed in version 1.0.0. Downloads always resume when possible. If you want to force a new download, use `force_download=True`.\n",
      "  warnings.warn(\n"
     ]
    },
    {
     "data": {
      "text/plain": [
       "{'matches': [{'id': 'Milk Allergy_overview1',\n",
       "              'metadata': {'content': 'A milk allergy is one of the most '\n",
       "                                      'common types of food allergy. Your '\n",
       "                                      'immune system overreacts to one or more '\n",
       "                                      \"of the proteins in milk you've ingested \"\n",
       "                                      \"(eaten or drunk). Cow's milk is the \"\n",
       "                                      'most common cause of a milk allergy. '\n",
       "                                      'However, other types of animal milk, '\n",
       "                                      \"including goat's milk and sheep's milk, \"\n",
       "                                      'may cause your immune system to react. '\n",
       "                                      'You may have a true milk allergy as a '\n",
       "                                      'result of an immune system reaction. '\n",
       "                                      'There are also other reactions to foods '\n",
       "                                      'as well, including: Milk protein '\n",
       "                                      'intolerance in infants. Lactose '\n",
       "                                      'intolerance in older children and '\n",
       "                                      'adults. A milk allergy can be deadly. '\n",
       "                                      'If you have severe allergic reaction '\n",
       "                                      'symptoms, such as trouble breathing, '\n",
       "                                      'call 911 (or your local emergency '\n",
       "                                      'number) or go to your nearest emergency '\n",
       "                                      'room (ER) immediately.',\n",
       "                           'source': 'https://my.clevelandclinic.org/health/diseases/11315-milk-allergy#overview',\n",
       "                           'title': 'What is a milk allergy?'},\n",
       "              'score': 0.799532056,\n",
       "              'values': []},\n",
       "             {'id': 'Milk Allergy_overview2',\n",
       "              'metadata': {'content': 'A milk allergy causes an allergic '\n",
       "                                      'reaction in your body. An allergic '\n",
       "                                      \"reaction is your body's response to an \"\n",
       "                                      'allergen. If you have a milk allergy, '\n",
       "                                      'your body responds by creating '\n",
       "                                      'immunoglobulin E (IgE) after your first '\n",
       "                                      'exposure to milk. IgE are antibodies '\n",
       "                                      'your immune system makes. Your body '\n",
       "                                      'makes many different types of IgE, '\n",
       "                                      'which target specific kinds of '\n",
       "                                      'allergens. IgE antibodies bind to mast '\n",
       "                                      'cells (allergy cells) in your skin, '\n",
       "                                      'respiratory tract (airways) and '\n",
       "                                      'cardiovascular system. When they '\n",
       "                                      'encounter milk proteins, they release '\n",
       "                                      'histamine. Histamine is what causes '\n",
       "                                      'your allergy symptoms. IgE reactions '\n",
       "                                      'happen quickly after ingesting milk. '\n",
       "                                      'Reactions may include anaphylaxis, '\n",
       "                                      'which is a severe allergic reaction '\n",
       "                                      'that may cause death. Other reactions '\n",
       "                                      \"to milk aren't the result of the \"\n",
       "                                      'allergy antibody. Your reaction to milk '\n",
       "                                      'is slower than an IgE-mediated '\n",
       "                                      'reaction. It may take up to 48 hours to '\n",
       "                                      'develop. Milk is one of the most common '\n",
       "                                      'triggers for a non-IgE reaction in '\n",
       "                                      'babies. Most non-IgE food allergies, '\n",
       "                                      \"including milk, aren't \"\n",
       "                                      'life-threatening. Reactions may include '\n",
       "                                      'milk protein intolerance.',\n",
       "                           'source': 'https://my.clevelandclinic.org/health/diseases/11315-milk-allergy#overview',\n",
       "                           'title': 'How does a milk allergy affect my body?'},\n",
       "              'score': 0.740088,\n",
       "              'values': []},\n",
       "             {'id': 'Milk Allergy_additional-common-questions1',\n",
       "              'metadata': {'content': \"No, a milk allergy isn't the same as \"\n",
       "                                      'lactose intolerance. Lactose '\n",
       "                                      'intolerance (dairy intolerance) is the '\n",
       "                                      'inability to digest lactose. Lactose is '\n",
       "                                      \"a sugar that's in many dairy products. \"\n",
       "                                      'Lactose intolerance causes bloating, '\n",
       "                                      'cramps and diarrhea after eating or '\n",
       "                                      'drinking products that contain lactose. '\n",
       "                                      \"It's more common in adults than babies \"\n",
       "                                      'and young children. A milk allergy is '\n",
       "                                      'when your immune system overreacts to '\n",
       "                                      'one or more of the proteins in milk. It '\n",
       "                                      'usually has more serious symptoms than '\n",
       "                                      'lactose intolerance. Milk allergies are '\n",
       "                                      'more common in babies and young '\n",
       "                                      'children.',\n",
       "                           'source': 'https://my.clevelandclinic.org/health/diseases/11315-milk-allergy#additional-common-questions',\n",
       "                           'title': 'Is a milk allergy the same as lactose '\n",
       "                                    'intolerance?'},\n",
       "              'score': 0.733789742,\n",
       "              'values': []}],\n",
       " 'namespace': '',\n",
       " 'usage': {'read_units': 6}}"
      ]
     },
     "execution_count": 32,
     "metadata": {},
     "output_type": "execute_result"
    }
   ],
   "source": [
    "#pinecone\n",
    "from pinecone import Pinecone\n",
    "from sentence_transformers import SentenceTransformer\n",
    "\n",
    "#setup\n",
    "API_KEY = \"your-api-key\"\n",
    "INDEX_NAME = \"healthcare-chatbot\"\n",
    "\n",
    "pc = Pinecone(api_key=API_KEY)\n",
    "index = pc.Index(INDEX_NAME)\n",
    "\n",
    "sent_model = SentenceTransformer('all-MiniLM-L6-v2')\n",
    "\n",
    "\n",
    "query = \"what is milk allergy? what causes it\"\n",
    "query_vector = sent_model.encode(query).tolist()\n",
    "\n",
    "content = index.query(\n",
    "    # namespace=\"example-namespace\",\n",
    "    vector=query_vector,\n",
    "    top_k=3,\n",
    "    include_metadata=True\n",
    ")\n",
    "content"
   ]
  },
  {
   "cell_type": "code",
   "execution_count": 34,
   "metadata": {},
   "outputs": [
    {
     "data": {
      "text/plain": [
       "{'Milk Allergy_overview1': \"A milk allergy is one of the most common types of food allergy. Your immune system overreacts to one or more of the proteins in milk you've ingested (eaten or drunk). Cow's milk is the most common cause of a milk allergy. However, other types of animal milk, including goat's milk and sheep's milk, may cause your immune system to react. You may have a true milk allergy as a result of an immune system reaction. There are also other reactions to foods as well, including: Milk protein intolerance in infants. Lactose intolerance in older children and adults. A milk allergy can be deadly. If you have severe allergic reaction symptoms, such as trouble breathing, call 911 (or your local emergency number) or go to your nearest emergency room (ER) immediately.\",\n",
       " 'Milk Allergy_overview2': \"A milk allergy causes an allergic reaction in your body. An allergic reaction is your body's response to an allergen. If you have a milk allergy, your body responds by creating immunoglobulin E (IgE) after your first exposure to milk. IgE are antibodies your immune system makes. Your body makes many different types of IgE, which target specific kinds of allergens. IgE antibodies bind to mast cells (allergy cells) in your skin, respiratory tract (airways) and cardiovascular system. When they encounter milk proteins, they release histamine. Histamine is what causes your allergy symptoms. IgE reactions happen quickly after ingesting milk. Reactions may include anaphylaxis, which is a severe allergic reaction that may cause death. Other reactions to milk aren't the result of the allergy antibody. Your reaction to milk is slower than an IgE-mediated reaction. It may take up to 48 hours to develop. Milk is one of the most common triggers for a non-IgE reaction in babies. Most non-IgE food allergies, including milk, aren't life-threatening. Reactions may include milk protein intolerance.\",\n",
       " 'Milk Allergy_additional-common-questions1': \"No, a milk allergy isn't the same as lactose intolerance. Lactose intolerance (dairy intolerance) is the inability to digest lactose. Lactose is a sugar that's in many dairy products. Lactose intolerance causes bloating, cramps and diarrhea after eating or drinking products that contain lactose. It's more common in adults than babies and young children. A milk allergy is when your immune system overreacts to one or more of the proteins in milk. It usually has more serious symptoms than lactose intolerance. Milk allergies are more common in babies and young children.\"}"
      ]
     },
     "execution_count": 34,
     "metadata": {},
     "output_type": "execute_result"
    }
   ],
   "source": [
    "contexts = {item[\"id\"]:item['metadata']['content'] for item in content['matches']}\n",
    "contexts"
   ]
  },
  {
   "cell_type": "code",
   "execution_count": 86,
   "metadata": {},
   "outputs": [
    {
     "name": "stderr",
     "output_type": "stream",
     "text": [
      "/home/fm-pc-lt-237/miniconda3/envs/llm/lib/python3.11/site-packages/langchain_community/vectorstores/pinecone.py:68: UserWarning: Passing in `embedding` as a Callable is deprecated. Please pass in an Embeddings object instead.\n",
      "  warnings.warn(\n"
     ]
    }
   ],
   "source": [
    "from langchain import PromptTemplate\n",
    "from langchain.chains import  RetrievalQA\n",
    "\n",
    "\n",
    "template = \"\"\"\n",
    "[INST] <>\n",
    "Act as a Doctor who is giving information on diseases\n",
    "<>\n",
    "{context}\n",
    "\n",
    "{question} [/INST]\n",
    "\"\"\"\n",
    "\n",
    "vectorstore = Pinecone(\n",
    "    index, sent_model, \"content\"\n",
    ")\n",
    "\n",
    "prompt = PromptTemplate(template=template, \n",
    "                        input_variables=[\"context\", \"question\"])\n",
    "\n",
    "\n",
    "\n",
    "qa_chain = RetrievalQA.from_chain_type(\n",
    "    llm=llm,\n",
    "    chain_type=\"stuff\",\n",
    "    retriever=vectorstore.as_retriever(search_kwargs={\"k\":3}),\n",
    "    return_source_documents=True,\n",
    "    chain_type_kwargs={\"prompt\": prompt},\n",
    ")\n"
   ]
  },
  {
   "cell_type": "code",
   "execution_count": null,
   "metadata": {},
   "outputs": [],
   "source": [
    "qa_chain(query)"
   ]
  },
  {
   "cell_type": "code",
   "execution_count": 39,
   "metadata": {},
   "outputs": [
    {
     "data": {
      "text/plain": [
       "{'Milk Allergy_overview1': \"A milk allergy is one of the most common types of food allergy. Your immune system overreacts to one or more of the proteins in milk you've ingested (eaten or drunk). Cow's milk is the most common cause of a milk allergy. However, other types of animal milk, including goat's milk and sheep's milk, may cause your immune system to react. You may have a true milk allergy as a result of an immune system reaction. There are also other reactions to foods as well, including: Milk protein intolerance in infants. Lactose intolerance in older children and adults. A milk allergy can be deadly. If you have severe allergic reaction symptoms, such as trouble breathing, call 911 (or your local emergency number) or go to your nearest emergency room (ER) immediately.\",\n",
       " 'Milk Allergy_overview2': \"A milk allergy causes an allergic reaction in your body. An allergic reaction is your body's response to an allergen. If you have a milk allergy, your body responds by creating immunoglobulin E (IgE) after your first exposure to milk. IgE are antibodies your immune system makes. Your body makes many different types of IgE, which target specific kinds of allergens. IgE antibodies bind to mast cells (allergy cells) in your skin, respiratory tract (airways) and cardiovascular system. When they encounter milk proteins, they release histamine. Histamine is what causes your allergy symptoms. IgE reactions happen quickly after ingesting milk. Reactions may include anaphylaxis, which is a severe allergic reaction that may cause death. Other reactions to milk aren't the result of the allergy antibody. Your reaction to milk is slower than an IgE-mediated reaction. It may take up to 48 hours to develop. Milk is one of the most common triggers for a non-IgE reaction in babies. Most non-IgE food allergies, including milk, aren't life-threatening. Reactions may include milk protein intolerance.\",\n",
       " 'Milk Allergy_additional-common-questions1': \"No, a milk allergy isn't the same as lactose intolerance. Lactose intolerance (dairy intolerance) is the inability to digest lactose. Lactose is a sugar that's in many dairy products. Lactose intolerance causes bloating, cramps and diarrhea after eating or drinking products that contain lactose. It's more common in adults than babies and young children. A milk allergy is when your immune system overreacts to one or more of the proteins in milk. It usually has more serious symptoms than lactose intolerance. Milk allergies are more common in babies and young children.\"}"
      ]
     },
     "execution_count": 39,
     "metadata": {},
     "output_type": "execute_result"
    }
   ],
   "source": [
    "contexts"
   ]
  },
  {
   "cell_type": "code",
   "execution_count": 68,
   "metadata": {},
   "outputs": [
    {
     "data": {
      "text/plain": [
       "{'matches': [{'id': 'Milk Allergy_overview1',\n",
       "              'metadata': {'content': 'A milk allergy is one of the most '\n",
       "                                      'common types of food allergy. Your '\n",
       "                                      'immune system overreacts to one or more '\n",
       "                                      \"of the proteins in milk you've ingested \"\n",
       "                                      \"(eaten or drunk). Cow's milk is the \"\n",
       "                                      'most common cause of a milk allergy. '\n",
       "                                      'However, other types of animal milk, '\n",
       "                                      \"including goat's milk and sheep's milk, \"\n",
       "                                      'may cause your immune system to react. '\n",
       "                                      'You may have a true milk allergy as a '\n",
       "                                      'result of an immune system reaction. '\n",
       "                                      'There are also other reactions to foods '\n",
       "                                      'as well, including: Milk protein '\n",
       "                                      'intolerance in infants. Lactose '\n",
       "                                      'intolerance in older children and '\n",
       "                                      'adults. A milk allergy can be deadly. '\n",
       "                                      'If you have severe allergic reaction '\n",
       "                                      'symptoms, such as trouble breathing, '\n",
       "                                      'call 911 (or your local emergency '\n",
       "                                      'number) or go to your nearest emergency '\n",
       "                                      'room (ER) immediately.',\n",
       "                           'source': 'https://my.clevelandclinic.org/health/diseases/11315-milk-allergy#overview',\n",
       "                           'title': 'What is a milk allergy?'},\n",
       "              'score': 0.799532056,\n",
       "              'values': []},\n",
       "             {'id': 'Milk Allergy_overview2',\n",
       "              'metadata': {'content': 'A milk allergy causes an allergic '\n",
       "                                      'reaction in your body. An allergic '\n",
       "                                      \"reaction is your body's response to an \"\n",
       "                                      'allergen. If you have a milk allergy, '\n",
       "                                      'your body responds by creating '\n",
       "                                      'immunoglobulin E (IgE) after your first '\n",
       "                                      'exposure to milk. IgE are antibodies '\n",
       "                                      'your immune system makes. Your body '\n",
       "                                      'makes many different types of IgE, '\n",
       "                                      'which target specific kinds of '\n",
       "                                      'allergens. IgE antibodies bind to mast '\n",
       "                                      'cells (allergy cells) in your skin, '\n",
       "                                      'respiratory tract (airways) and '\n",
       "                                      'cardiovascular system. When they '\n",
       "                                      'encounter milk proteins, they release '\n",
       "                                      'histamine. Histamine is what causes '\n",
       "                                      'your allergy symptoms. IgE reactions '\n",
       "                                      'happen quickly after ingesting milk. '\n",
       "                                      'Reactions may include anaphylaxis, '\n",
       "                                      'which is a severe allergic reaction '\n",
       "                                      'that may cause death. Other reactions '\n",
       "                                      \"to milk aren't the result of the \"\n",
       "                                      'allergy antibody. Your reaction to milk '\n",
       "                                      'is slower than an IgE-mediated '\n",
       "                                      'reaction. It may take up to 48 hours to '\n",
       "                                      'develop. Milk is one of the most common '\n",
       "                                      'triggers for a non-IgE reaction in '\n",
       "                                      'babies. Most non-IgE food allergies, '\n",
       "                                      \"including milk, aren't \"\n",
       "                                      'life-threatening. Reactions may include '\n",
       "                                      'milk protein intolerance.',\n",
       "                           'source': 'https://my.clevelandclinic.org/health/diseases/11315-milk-allergy#overview',\n",
       "                           'title': 'How does a milk allergy affect my body?'},\n",
       "              'score': 0.740088,\n",
       "              'values': []},\n",
       "             {'id': 'Milk Allergy_additional-common-questions1',\n",
       "              'metadata': {'content': \"No, a milk allergy isn't the same as \"\n",
       "                                      'lactose intolerance. Lactose '\n",
       "                                      'intolerance (dairy intolerance) is the '\n",
       "                                      'inability to digest lactose. Lactose is '\n",
       "                                      \"a sugar that's in many dairy products. \"\n",
       "                                      'Lactose intolerance causes bloating, '\n",
       "                                      'cramps and diarrhea after eating or '\n",
       "                                      'drinking products that contain lactose. '\n",
       "                                      \"It's more common in adults than babies \"\n",
       "                                      'and young children. A milk allergy is '\n",
       "                                      'when your immune system overreacts to '\n",
       "                                      'one or more of the proteins in milk. It '\n",
       "                                      'usually has more serious symptoms than '\n",
       "                                      'lactose intolerance. Milk allergies are '\n",
       "                                      'more common in babies and young '\n",
       "                                      'children.',\n",
       "                           'source': 'https://my.clevelandclinic.org/health/diseases/11315-milk-allergy#additional-common-questions',\n",
       "                           'title': 'Is a milk allergy the same as lactose '\n",
       "                                    'intolerance?'},\n",
       "              'score': 0.733789742,\n",
       "              'values': []}],\n",
       " 'namespace': '',\n",
       " 'usage': {'read_units': 6}}"
      ]
     },
     "execution_count": 68,
     "metadata": {},
     "output_type": "execute_result"
    }
   ],
   "source": [
    "\n",
    "query = \"what is milk allergy? what causes it\"\n",
    "query_vector = sent_model.encode(query).tolist()\n",
    "\n",
    "rel_content = index.query(\n",
    "    # namespace=\"example-namespace\",\n",
    "    vector=query_vector,\n",
    "    top_k=3,\n",
    "    include_metadata=True\n",
    ")\n",
    "rel_content"
   ]
  },
  {
   "cell_type": "code",
   "execution_count": 63,
   "metadata": {},
   "outputs": [
    {
     "name": "stderr",
     "output_type": "stream",
     "text": [
      "Setting `pad_token_id` to `eos_token_id`:2 for open-end generation.\n"
     ]
    },
    {
     "data": {
      "text/plain": [
       "{'context': \"A milk allergy is one of the most common types of food allergy. Your immune system overreacts to one or more of the proteins in milk you've ingested (eaten or drunk). Cow's milk is the most common cause of a milk allergy. However, other types of animal milk, including goat's milk and sheep's milk, may cause your immune system to react. You may have a true milk allergy as a result of an immune system reaction. There are also other reactions to foods as well, including: Milk protein intolerance in infants. Lactose intolerance in older children and adults. A milk allergy can be deadly. If you have severe allergic reaction symptoms, such as trouble breathing, call 911 (or your local emergency number) or go to your nearest emergency room (ER) immediately. A milk allergy causes an allergic reaction in your body. An allergic reaction is your body's response to an allergen. If you have a milk allergy, your body responds by creating immunoglobulin E (IgE) after your first exposure to milk. IgE are antibodies your immune system makes. Your body makes many different types of IgE, which target specific kinds of allergens. IgE antibodies bind to mast cells (allergy cells) in your skin, respiratory tract (airways) and cardiovascular system. When they encounter milk proteins, they release histamine. Histamine is what causes your allergy symptoms. IgE reactions happen quickly after ingesting milk. Reactions may include anaphylaxis, which is a severe allergic reaction that may cause death. Other reactions to milk aren't the result of the allergy antibody. Your reaction to milk is slower than an IgE-mediated reaction. It may take up to 48 hours to develop. Milk is one of the most common triggers for a non-IgE reaction in babies. Most non-IgE food allergies, including milk, aren't life-threatening. Reactions may include milk protein intolerance. No, a milk allergy isn't the same as lactose intolerance. Lactose intolerance (dairy intolerance) is the inability to digest lactose. Lactose is a sugar that's in many dairy products. Lactose intolerance causes bloating, cramps and diarrhea after eating or drinking products that contain lactose. It's more common in adults than babies and young children. A milk allergy is when your immune system overreacts to one or more of the proteins in milk. It usually has more serious symptoms than lactose intolerance. Milk allergies are more common in babies and young children.\",\n",
       " 'question': 'what is milk allergy? what causes it',\n",
       " 'text': \"\\n[INST] <>\\nYou are an expert Doctor and Physician, specializing in <specialty>. You'll be asked question regarding different diseases and health related issues. Consider the given information below to answer the user question. Also if the question is not for doctors that just say you can't help with it<>\\nA milk allergy is one of the most common types of food allergy. Your immune system overreacts to one or more of the proteins in milk you've ingested (eaten or drunk). Cow's milk is the most common cause of a milk allergy. However, other types of animal milk, including goat's milk and sheep's milk, may cause your immune system to react. You may have a true milk allergy as a result of an immune system reaction. There are also other reactions to foods as well, including: Milk protein intolerance in infants. Lactose intolerance in older children and adults. A milk allergy can be deadly. If you have severe allergic reaction symptoms, such as trouble breathing, call 911 (or your local emergency number) or go to your nearest emergency room (ER) immediately. A milk allergy causes an allergic reaction in your body. An allergic reaction is your body's response to an allergen. If you have a milk allergy, your body responds by creating immunoglobulin E (IgE) after your first exposure to milk. IgE are antibodies your immune system makes. Your body makes many different types of IgE, which target specific kinds of allergens. IgE antibodies bind to mast cells (allergy cells) in your skin, respiratory tract (airways) and cardiovascular system. When they encounter milk proteins, they release histamine. Histamine is what causes your allergy symptoms. IgE reactions happen quickly after ingesting milk. Reactions may include anaphylaxis, which is a severe allergic reaction that may cause death. Other reactions to milk aren't the result of the allergy antibody. Your reaction to milk is slower than an IgE-mediated reaction. It may take up to 48 hours to develop. Milk is one of the most common triggers for a non-IgE reaction in babies. Most non-IgE food allergies, including milk, aren't life-threatening. Reactions may include milk protein intolerance. No, a milk allergy isn't the same as lactose intolerance. Lactose intolerance (dairy intolerance) is the inability to digest lactose. Lactose is a sugar that's in many dairy products. Lactose intolerance causes bloating, cramps and diarrhea after eating or drinking products that contain lactose. It's more common in adults than babies and young children. A milk allergy is when your immune system overreacts to one or more of the proteins in milk. It usually has more serious symptoms than lactose intolerance. Milk allergies are more common in babies and young children.\\n\\nwhat is milk allergy? what causes it [/INST]\\nMilk allergy is a type of food allergy where your immune system overreacts to one or more of the proteins in milk you've ingested. The most common cause of a milk allergy is cow's milk, but other types of animal milk like goat's and sheep's milk may also cause an immune system reaction. Milk allergies can be deadly if you have severe allergic reaction symptoms, such as difficulty breathing, so it's important to seek medical attention immediately if you experience these symptoms.\"}"
      ]
     },
     "execution_count": 63,
     "metadata": {},
     "output_type": "execute_result"
    }
   ],
   "source": [
    "from langchain.chains import LLMChain\n",
    "from langchain.schema.runnable import RunnablePassthrough\n",
    "\n",
    "\n",
    "template = \"\"\"\n",
    "[INST] <>\n",
    "You are an expert Doctor and Physician, specializing in <specialty>. You'll be asked question regarding different diseases and health related issues. Consider the given information below to answer the user question. Also if the question is not for doctors that just say you can't help with it<>\n",
    "{context}\n",
    "\n",
    "{question} [/INST]\n",
    "\"\"\"\n",
    "\n",
    "prompt = PromptTemplate.from_template(template=template)\n",
    "llm_chain = LLMChain(llm=llm, prompt=prompt)\n",
    "\n",
    "contexts = [item['metadata']['content'] for item in rel_content['matches']]\n",
    "# contexts = \" \".join(contexts)\n",
    "\n",
    "rag_chain = ( \n",
    " {\"context\": lambda x: \" \".join(contexts), \"question\": RunnablePassthrough()}\n",
    "    | llm_chain\n",
    ")\n",
    "\n",
    "rag_chain.invoke(query)"
   ]
  },
  {
   "cell_type": "code",
   "execution_count": 72,
   "metadata": {},
   "outputs": [
    {
     "data": {
      "text/plain": [
       "{'dimension': 384,\n",
       " 'index_fullness': 0.0,\n",
       " 'namespaces': {'': {'vector_count': 32944}},\n",
       " 'total_vector_count': 32944}"
      ]
     },
     "execution_count": 72,
     "metadata": {},
     "output_type": "execute_result"
    }
   ],
   "source": [
    "index.describe_index_stats()\n"
   ]
  },
  {
   "cell_type": "code",
   "execution_count": null,
   "metadata": {},
   "outputs": [],
   "source": [
    "# from  import Pinecone\n",
    "from langchain.vectorstores import Pinecone as pp\n",
    "\n",
    "text_field = \"content\"  # the metadata field that contains our text\n",
    "# print(index)\n",
    "# initialize the vector store object\n",
    "vectorstore = pp(\n",
    "    index, sent_model, text_field\n",
    ")\n",
    "print(query)\n",
    "vectorstore.similarity_search(\"what is milk allergy? what causes it\", k=3)"
   ]
  },
  {
   "cell_type": "code",
   "execution_count": null,
   "metadata": {},
   "outputs": [],
   "source": [
    "from langchain.text_splitter import RecursiveCharacterTextSplitter\n",
    "\n",
    "def split_docs(documents,chunk_size=10,chunk_overlap=3):\n",
    "  text_splitter = RecursiveCharacterTextSplitter(chunk_size=chunk_size, chunk_overlap=chunk_overlap)\n",
    "  docs = text_splitter.split_documents(documents)\n",
    "  return docs\n",
    "documents = [\"To prevent exceeding the context window of the LLM, we must split the data into smaller chunks before embedding and storing them in a vector store. We’ll use the RecursiveCharacterTextSplitter for this purpose, but depending on your needs, you may need to explore other splitters. Experimenting with parameters like chunk size and overlap is encouraged.\"]\n",
    "docs = split_docs(documents)"
   ]
  },
  {
   "cell_type": "code",
   "execution_count": null,
   "metadata": {},
   "outputs": [],
   "source": []
  }
 ],
 "metadata": {
  "kernelspec": {
   "display_name": "llm",
   "language": "python",
   "name": "python3"
  },
  "language_info": {
   "codemirror_mode": {
    "name": "ipython",
    "version": 3
   },
   "file_extension": ".py",
   "mimetype": "text/x-python",
   "name": "python",
   "nbconvert_exporter": "python",
   "pygments_lexer": "ipython3",
   "version": "3.11.3"
  },
  "orig_nbformat": 4
 },
 "nbformat": 4,
 "nbformat_minor": 2
}
