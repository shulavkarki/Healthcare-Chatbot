{
 "cells": [
  {
   "cell_type": "code",
   "execution_count": 1,
   "metadata": {},
   "outputs": [],
   "source": [
    "from langchain.llms import Ollama\n"
   ]
  },
  {
   "cell_type": "code",
   "execution_count": 2,
   "metadata": {},
   "outputs": [],
   "source": [
    "model = Ollama(model=\"mistral\")"
   ]
  },
  {
   "cell_type": "code",
   "execution_count": 4,
   "metadata": {},
   "outputs": [
    {
     "name": "stderr",
     "output_type": "stream",
     "text": [
      "/home/fm-pc-lt-237/miniconda3/envs/llm/lib/python3.11/site-packages/pinecone/data/index.py:1: TqdmWarning: IProgress not found. Please update jupyter and ipywidgets. See https://ipywidgets.readthedocs.io/en/stable/user_install.html\n",
      "  from tqdm.autonotebook import tqdm\n",
      "/home/fm-pc-lt-237/miniconda3/envs/llm/lib/python3.11/site-packages/huggingface_hub/file_download.py:1132: FutureWarning: `resume_download` is deprecated and will be removed in version 1.0.0. Downloads always resume when possible. If you want to force a new download, use `force_download=True`.\n",
      "  warnings.warn(\n"
     ]
    }
   ],
   "source": [
    "from pinecone import Pinecone\n",
    "from sentence_transformers import SentenceTransformer\n",
    "\n",
    "#setup\n",
    "API_KEY = \"\"\n",
    "INDEX_NAME = \"healthcare-chatbot\"\n",
    "\n",
    "\n",
    "pc = Pinecone(api_key=API_KEY)\n",
    "index = pc.Index(INDEX_NAME)\n",
    "\n",
    "sent_model = SentenceTransformer('all-MiniLM-L6-v2')\n",
    "\n",
    "\n",
    "query = \"what is milk allergy? what causes it\"\n",
    "query_vector = sent_model.encode(query).tolist()\n",
    "\n",
    "rel_content = index.query(\n",
    "    # namespace=\"example-namespace\",\n",
    "    vector=query_vector,\n",
    "    top_k=3,\n",
    "    include_metadata=True\n",
    ")\n",
    "contexts = {item['metadata']['content'] for item in rel_content['matches']}"
   ]
  },
  {
   "cell_type": "code",
   "execution_count": 5,
   "metadata": {},
   "outputs": [],
   "source": [
    "# for i in model.invoke(template):\n",
    "#     print(i)"
   ]
  },
  {
   "cell_type": "code",
   "execution_count": 43,
   "metadata": {},
   "outputs": [],
   "source": [
    "import ollama\n",
    "\n",
    "\n",
    "def get_prompt(contexts, question):    \n",
    "    template = f\"\"\"\n",
    "    You are an expert Doctor/Physician chatbot. You'll be asked question regarding different diseases and health related issues. \n",
    "    Consider the given information/context below to answer the user question. Also if the question is not health related then reply with \"Cannot process.\"\n",
    "    Context:{contexts}\n",
    "    Question:{question}\n",
    "    Answer: \n",
    "    \"\"\"\n",
    "    return template\n",
    "\n",
    "def get_relevant_results(query):\n",
    "    query_vector = sent_model.encode(query).tolist()\n",
    "\n",
    "    rel_content = index.query(\n",
    "        # namespace=\"example-namespace\",\n",
    "        vector=query_vector,\n",
    "        top_k=3,\n",
    "        include_metadata=True\n",
    "    )\n",
    "    contexts = [item['metadata']['content'] for item in rel_content['matches']]\n",
    "    sources = [item['metadata']['source'] for item in rel_content['matches']]\n",
    "    print(\" \".join(contexts))\n",
    "    return \" \".join(contexts), sources\n",
    "\n",
    "def generate_response(query):\n",
    "    contexts, source = get_relevant_results(query)\n",
    "    prompt = get_prompt(contexts, query)\n",
    "    print(source)\n",
    "    res = ollama.chat(model=\"mistral\", messages=[{\"role\": \"user\", \"content\": prompt}])\n",
    "    return res[\"message\"][\"content\"]"
   ]
  },
  {
   "cell_type": "code",
   "execution_count": 44,
   "metadata": {},
   "outputs": [
    {
     "name": "stdout",
     "output_type": "stream",
     "text": [
      "An allergic reaction to milk usually begins within minutes of ingestion. The severity of symptoms can vary between people. Mild symptoms may include: Hives. Nausea or vomiting. Abdominal pain. Diarrhea. Rash. Itching. Tingling or swelling of your lips, tongue or throat. Severe symptoms may include anaphylaxis. Without immediate treatment, anaphylaxis may result in death. Other severe symptoms may include: Chest tightness. Shortness of breath (dyspnea). Difficulty breathing. Difficulty swallowing (dysphagia). Rash (contact dermatitis). Wheezing. Dizziness. Drop in blood pressure (hypotension). Loss of consciousness (syncope). See a healthcare provider if you regularly have milk allergy symptoms or if you notice that your symptoms develop after ingesting milk. A milk allergy is one of the most common types of food allergy. Your immune system overreacts to one or more of the proteins in milk you've ingested (eaten or drunk). Cow's milk is the most common cause of a milk allergy. However, other types of animal milk, including goat's milk and sheep's milk, may cause your immune system to react. You may have a true milk allergy as a result of an immune system reaction. There are also other reactions to foods as well, including: Milk protein intolerance in infants. Lactose intolerance in older children and adults. A milk allergy can be deadly. If you have severe allergic reaction symptoms, such as trouble breathing, call 911 (or your local emergency number) or go to your nearest emergency room (ER) immediately.\n",
      "['https://my.clevelandclinic.org/health/diseases/11315-milk-allergy#symptoms-and-causes', 'https://my.clevelandclinic.org/health/diseases/11315-milk-allergy#living-with', 'https://my.clevelandclinic.org/health/diseases/11315-milk-allergy#overview']\n"
     ]
    },
    {
     "data": {
      "text/plain": [
       "' Symptoms of a milk allergy can include hives, nausea or vomiting, abdominal pain, diarrhea, rash, itching, tingling or swelling of your lips, tongue or throat. In severe cases, symptoms may also include chest tightness, shortness of breath (dyspnea), difficulty breathing, difficulty swallowing (dysphagia), rash (contact dermatitis), wheezing, dizziness, drop in blood pressure (hypotension), loss of consciousness (syncope). If you have severe allergic reaction symptoms such as trouble breathing, call 911 (or your local emergency number) or go to your nearest emergency room (ER) immediately.'"
      ]
     },
     "execution_count": 44,
     "metadata": {},
     "output_type": "execute_result"
    }
   ],
   "source": [
    "query = 'Symptoms of milk allergy'\n",
    "\n",
    "generate_response(query)"
   ]
  },
  {
   "cell_type": "code",
   "execution_count": null,
   "metadata": {},
   "outputs": [],
   "source": [
    " The severity of symptoms can vary between people. Mild symptoms may include: \n",
    "    Hives. Nausea or vomiting. Abdominal pain. Diarrhea. Rash. Itching. Tingling or swelling of your lips, tongue or throat. \n",
    "Severe symptoms may include anaphylaxis. Without immediate treatment, anaphylaxis may result in death. Other severe symptoms may include: Chest tightness. Shortness of breath (dyspnea). Difficulty breathing. Difficulty swallowing (dysphagia). Rash (contact dermatitis). Wheezing. Dizziness. Drop in blood pressure (hypotension). Loss of consciousness (syncope). See a healthcare provider if you regularly have milk allergy symptoms or if you notice that your symptoms develop after ingesting milk. A milk allergy is one of the most common types of food allergy. Your immune system overreacts to one or more of the proteins in milk you've ingested (eaten or drunk). Cow's milk is the most common cause of a milk allergy. However, other types of animal milk, including goat's milk and sheep's milk, may cause your immune system to react. You may have a true milk allergy as a result of an immune system reaction. There are also other reactions to foods as well, including: Milk protein intolerance in infants. Lactose intolerance in older children and adults. A milk allergy can be deadly. If you have severe allergic reaction symptoms, such as trouble breathing, call 911 (or your local emergency number) or go to your nearest emergency room (ER) immediately.\n"
   ]
  }
 ],
 "metadata": {
  "kernelspec": {
   "display_name": "llm",
   "language": "python",
   "name": "python3"
  },
  "language_info": {
   "codemirror_mode": {
    "name": "ipython",
    "version": 3
   },
   "file_extension": ".py",
   "mimetype": "text/x-python",
   "name": "python",
   "nbconvert_exporter": "python",
   "pygments_lexer": "ipython3",
   "version": "3.11.3"
  },
  "orig_nbformat": 4
 },
 "nbformat": 4,
 "nbformat_minor": 2
}
