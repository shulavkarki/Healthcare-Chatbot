{
 "cells": [
  {
   "cell_type": "code",
   "execution_count": 1,
   "metadata": {},
   "outputs": [],
   "source": [
    "import time\n",
    "from selenium import webdriver\n",
    "from selenium.webdriver.common.by import By\n",
    "from selenium.webdriver.common.by import By\n",
    "from selenium.webdriver.common.keys import Keys\n",
    "\n",
    "driver = webdriver.Chrome()\n"
   ]
  },
  {
   "cell_type": "code",
   "execution_count": 2,
   "metadata": {},
   "outputs": [],
   "source": [
    "driver.get(\"https://my.clevelandclinic.org/health/diseases?dFR[type][0]=Diseases\")\n",
    "\n",
    "title = driver.title"
   ]
  },
  {
   "cell_type": "code",
   "execution_count": 3,
   "metadata": {},
   "outputs": [],
   "source": [
    "search_input = driver.find_element(By.ID, 'search-input')\n",
    "search_input.clear()\n",
    "search_input.send_keys('a')"
   ]
  },
  {
   "cell_type": "code",
   "execution_count": 33,
   "metadata": {},
   "outputs": [
    {
     "data": {
      "text/plain": [
       "[<selenium.webdriver.remote.webelement.WebElement (session=\"2cc80fbd06846598b155cfb152448c9f\", element=\"f.C49A2B82BBEFFD8ED5AC528927F5AC78.d.77EF07998336536C79D5CD555636EEC7.e.52\")>]"
      ]
     },
     "execution_count": 33,
     "metadata": {},
     "output_type": "execute_result"
    }
   ],
   "source": [
    "# site_hits = driver.find_elements(By.ID, 'site-hits')  # Replace with actual CSS selector\n",
    "# site_hits"
   ]
  },
  {
   "cell_type": "code",
   "execution_count": 4,
   "metadata": {},
   "outputs": [
    {
     "name": "stdout",
     "output_type": "stream",
     "text": [
      "Link Text: Anorexia Nervosa\n",
      "Link URL: https://my.clevelandclinic.org/health/diseases/9794-anorexia-nervosa\n",
      "Description: Anorexia nervosa is an eating disorder characterized by extreme restriction of calorie intake, an intense fear of weight gain and a distorted view self-image.\n",
      "-----------\n",
      "https://my.clevelandclinic.org/health/diseases/9794-anorexia-nervosa#overview\n",
      "What is anorexia nervosa?\n",
      "Anorexia, formally known as anorexia nervosa, is an eating disorder. People with anorexia limit the number of calories and the types of food they eat. Eventually, they lose weight or cannot maintain an appropriate body weight based on their height, age, stature and physical health. They may exercise compulsively and/or purge the food they eat through intentional vomiting and/or misuse of laxatives.\n",
      "\n",
      "Individuals with anorexia also have a distorted self-image of their body and have an intense fear of gaining weight.\n",
      "\n",
      "Anorexia is a serious condition that requires treatment. Extreme weight loss in people with anorexia can lead to malnutrition, dangerous health problems and even death.\n",
      "Who does anorexia affect?\n",
      "Anorexia can occur in people of any age, sex, gender, race, gender, ethnicity, sexual orientation and economic status and individuals of all body weights, shapes and sizes. Anorexia most commonly affects adolescents and young adult women, although it also occurs in men and is increasing in numbers in children and older adults.\n",
      "How common is anorexia?\n",
      "Eating disorders affect at least 9% of the worldwide population, and anorexia affects approximately 1% to 2% of the population. It affects 0.3% of adolescents.\n",
      "What is the difference between anorexia and bulimia?\n",
      "Anorexia nervosa and bulimia nervosa are both eating disorders. They can have similar symptoms, such as distorted body image and an intense fear of gaining weight. The difference is that they have different food-related behaviors.\n",
      "\n",
      "People who have anorexia severely reduce their calorie intake and/or purge to lose weight. People who have bulimia eat an excessive amount of food in a short period of time (binge eating) followed by certain behaviors to prevent weight gain. Such behaviors include:\n",
      "\n",
      "People with bulimia usually maintain their weight at optimal or slightly above optimal levels whereas people with anorexia typically have a body mass index (BMI) that is below 18.45 kg/m2 (kilogram per square meter).\n",
      "https://my.clevelandclinic.org/health/diseases/9794-anorexia-nervosa#symptoms-and-causes\n",
      "What are the signs and symptoms of anorexia?\n",
      "You cannot tell if a person has anorexia just by their appearance because anorexia also involves mental and behavioral components — not just physical. A person does not need to be underweight to have anorexia. Larger-bodied individuals can also have anorexia. However, they may be less likely to be diagnosed due to cultural stigma against fat and obesity. In addition, someone can be underweight without having anorexia. Remember, anorexia also includes psychological and behavioral components as well as physical.\n",
      "\n",
      "There are several emotional, behavioral and physical signs and symptoms of anorexia. If you or someone you know experiences the signs and symptoms of anorexia below, it’s important to seek help.\n",
      "\n",
      "Emotional and mental signs of anorexia include:\n",
      "\n",
      "Behavioral signs of anorexia include:\n",
      "\n",
      "The most well-known physical sign of anorexia is low body weight for a person’s height, sex and stature. However, it’s important to remember that someone can have anorexia without being underweight. In addition to weight-related signs of anorexia, there are also physical symptoms that are actually side effects of starvation and malnutrition.\n",
      "\n",
      "Physical signs of anorexia include:\n",
      "\n",
      "Physical symptoms of anorexia that are side effects of starvation and malnutrition include:\n",
      "What causes anorexia?\n",
      "Anorexia and all eating disorders are complex conditions. For this reason, the exact cause of anorexia is unknown, but research suggests that a combination of certain genetic factors, psychological traits and environmental factors, especially sociocultural factors, might be responsible.\n",
      "\n",
      "Factors that may be involved in developing anorexia include:\n",
      "\n",
      "It’s important to note that there’s no single path to an eating disorder or anorexia. For many people, irregular eating behaviors (also called “disordered eating”) represent an inappropriate coping strategy that becomes permanent over time. This pathway to disordered eating is true for some, but not all, who develop anorexia.\n",
      "https://my.clevelandclinic.org/health/diseases/9794-anorexia-nervosa#diagnosis-and-tests\n",
      "How is anorexia diagnosed?\n",
      "A healthcare provider can diagnose a person with anorexia based on the criteria for anorexia nervosa listed in the Diagnostic and Statistical Manual of Mental Disorders (DSM-5) published by the American Psychiatric Association. The three criteria for anorexia nervosa under the DSM-5 include:\n",
      "\n",
      "Even if all of the DSM-5 criteria for anorexia aren’t met, a person can still have a serious eating disorder. DSM-5 criteria classifies the severity of anorexia according to body mass index (BMI). Individuals who meet the criteria for anorexia but who aren’t underweight despite significant weight loss have what’s known as atypical anorexia.\n",
      "\n",
      "Diagnostic guidelines in the DSM-5 also allow healthcare providers to determine if a person is in partial remission (recovery) or full remission as well as to specify the current severity of the condition based on body mass index (BMI).\n",
      "\n",
      "If signs and symptoms of anorexia are present, a healthcare provider will begin an evaluation by performing a complete medical history and physical examination. The provider or a mental health professional will likely ask questions about the following topics:\n",
      "\n",
      "It’s important to remember that a person with anorexia or any eating disorder will have the best recovery outcome if they receive an early diagnosis. If you or someone you know is experiencing signs and symptoms of anorexia, be sure to talk to a healthcare provider as soon as possible.\n",
      "What tests are used to diagnose or assess anorexia?\n",
      "Although there are no laboratory tests to specifically diagnose anorexia, a healthcare provider may use various diagnostic tests, such as blood tests, to rule out any medical conditions that could cause weight loss and to evaluate the physical damage weight loss and starvation may have caused.\n",
      "\n",
      "Tests to rule out weight-loss causing illness or to assess anorexia side effects may include:\n",
      "https://my.clevelandclinic.org/health/diseases/9794-anorexia-nervosa#management-and-treatment\n",
      "How is anorexia treated?\n",
      "The biggest challenge in treating anorexia is helping the person recognize and accept that they have an illness. Many people with anorexia deny that they have an eating disorder. They often seek medical treatment only when their condition is serious or life-threatening. This is why it’s important to diagnose and treat anorexia in its beginning stages.\n",
      "\n",
      "The goals of treatment for anorexia include:\n",
      "\n",
      "People with eating disorders, including anorexia, often have additional mental health conditions, including:\n",
      "\n",
      "These conditions can further complicate anorexia, so if an individual has one or more of these conditions, their healthcare team will likely recommend treatment for the condition(s) as well.\n",
      "\n",
      "Treatment options will vary depending on the individual’s needs. A person may receive treatment through residential care (outpatient care) or hospitalization depending on their current medical and mental health state. Treatment for anorexia most often involves a combination of the following strategies:\n",
      "\n",
      "Psychotherapy is a type of individual counseling that focuses on changing the thinking (cognitive therapy) and behavior (behavioral therapy) of a person with an eating disorder. Treatment includes practical techniques for developing healthy attitudes toward food and weight, as well as approaches for changing the way the person responds to difficult situations. There are several types of psychotherapy, including:\n",
      "\n",
      "Some healthcare providers may prescribe medication to help manage anxiety and depression that are often associated with anorexia. The antipsychotic medication olanzapine (Zyprexa®) may be helpful for weight gain. Sometimes, providers prescribe medications to help with period regulation.\n",
      "\n",
      "Nutrition counseling is a strategy to help treat anorexia that involves the following:\n",
      "\n",
      "Family support is very important to anorexia treatment success. Family members must understand the eating disorder and recognize its signs and symptoms.\n",
      "\n",
      "People with eating disorders might also benefit from group therapy, where they can find support and openly discuss their feelings and concerns with others who share common experiences.\n",
      "\n",
      "Hospitalization might be needed to treat severe weight loss that has resulted in malnutrition and other serious mental or physical health complications, such as heart disorders, serious depression and suicidal thoughts or behaviors.\n",
      "Are there complications related to treating anorexia?\n",
      "The most serious complication of treating anorexia is a condition called refeeding syndrome. This life-threatening condition can occur when a seriously malnourished person begins to receive nutrition again. Basically, their body cannot properly restart the metabolism process.\n",
      "\n",
      "People experiencing refeeding syndrome can develop the following conditions:\n",
      "\n",
      "Since refeeding syndrome can have serious and life-threatening side effects, it’s essential for people with anorexia to receive medical treatment and/or guidance.\n",
      "\n",
      "People who have one or more of the following risk factors for developing refeeding syndrome may need to be treated in a hospital:\n",
      "How long does it take to recover from anorexia?\n",
      "Every person’s anorexia recovery journey is different. The important thing to remember is that it is possible to recover from anorexia. Treatment for anorexia often involves many components, such as psychological therapy, nutritional counseling and addressing the cause of the person’s anorexia, if possible, and each of these components can take different amounts of time.\n",
      "\n",
      "No matter where you or a loved one are in their journey of recovery, it’s essential to continue working toward recovery.\n",
      "https://my.clevelandclinic.org/health/diseases/9794-anorexia-nervosa#prevention\n",
      "What are the risk factors for developing anorexia?\n",
      "Anorexia can affect anyone, no matter their gender, age or race. However, certain factors put some people at greater risk for developing anorexia, including:\n",
      "Can anorexia be prevented?\n",
      "Although it might not be possible to prevent all cases of anorexia, it’s helpful to start treatment as soon as someone begins to have symptoms.\n",
      "\n",
      "In addition, teaching and encouraging healthy eating habits and realistic attitudes about food and body image also might help prevent the development or worsening of eating disorders. If your child or family member decides to become vegetarian or vegan, for instance, it’s worth seeing a dietitian versed in eating disorders and touching base with your pediatrician or healthcare provider to make sure that this change occurs without a loss in nutrients.\n",
      "https://my.clevelandclinic.org/health/diseases/9794-anorexia-nervosa#outlook-prognosis\n",
      "What is the outlook (prognosis) for people with anorexia?\n",
      "The prognosis for anorexia varies depending on certain factors, including:\n",
      "\n",
      "Anorexia, like other eating disorders, gets worse the longer it’s left untreated. The sooner the disorder is diagnosed and treated, the better the outcome. However, people with anorexia often will not admit they have a problem and might resist treatment or refuse to follow the treatment plan.\n",
      "\n",
      "Anorexia is a serious and potentially life-threatening eating disorder if it’s left untreated. Eating disorders, including anorexia, are among the deadliest mental health conditions, second only to opioid addiction. Individuals with anorexia are 5 times more likely to die prematurely and 18 times more likely to die by suicide.\n",
      "\n",
      "The good news is that anorexia can be treated, and someone with anorexia can return to a healthy weight and healthy eating patterns. Unfortunately, the risk of relapse is high, so recovery from anorexia usually requires long-term treatment as well as a strong commitment by the individual. Support of family members and friends can help ensure that the person receives and adheres to their needed treatment.\n",
      "What are the complications of anorexia?\n",
      "The medical complications and health risks of malnutrition and starvation, which are common in people who have anorexia, can affect nearly every organ in your body. In severe cases, vital organs such as your brain, heart and kidneys can sustain damage. This damage may be irreversible even after a person has recovered from anorexia.\n",
      "\n",
      "Severe medical complications that can happen from untreated anorexia include:\n",
      "\n",
      "In addition to physical complications, people with anorexia also commonly have other mental health conditions, including:\n",
      "\n",
      "If these mental health conditions are left untreated, they could lead to self-injury, suicidal thoughts or suicide attempts.\n",
      "\n",
      "If you’re having suicidal thoughts, call the Suicide and Crisis Lifeline at 988. Someone will be available to talk with you 24/7.\n",
      "https://my.clevelandclinic.org/health/diseases/9794-anorexia-nervosa#living-with\n",
      "How do I take care of myself if I have anorexia?\n",
      "It can be uncomfortable and scary, but it’s important to tell a loved one and/or your healthcare provider if you have anorexia.\n",
      "\n",
      "If you have already been diagnosed with anorexia, there are some things you can do to manage your condition and stay committed to recovery, including:\n",
      "How can I care for a loved one who has anorexia?\n",
      "There are multiple things you can do to help and support someone with anorexia, including:\n",
      "When should I see my healthcare provider?\n",
      "If you or someone you know is experiencing signs and symptoms of anorexia, be sure to talk to a healthcare provider as soon as possible.\n",
      "When should a person with anorexia go to the emergency room?\n",
      "Someone with anorexia should go to the emergency room (ER) if they’re experiencing any of the following physical symptoms:\n",
      "\n",
      "If you’re having thoughts of harming yourself, get to the nearest hospital as soon as possible or call the Suicide and Crisis Lifeline at 988. Someone will be available to talk with you 24/7.\n",
      "\n",
      "If you recognize suicidal behaviors in someone with anorexia, get them care as soon as possible.\n",
      "\n",
      "A note from Cleveland Clinic\n",
      "\n",
      "Anorexia is a serious and potentially life-threatening condition. The good news is that recovery is definitely possible. If you or someone you know is experiencing signs and symptoms of anorexia, it’s essential to seek help and care as soon as possible. It’s never too late to seek treatment, but getting help early improves the chance of a lasting recovery.\n",
      "<selenium.webdriver.remote.webelement.WebElement (session=\"3f1e9ce327b958dcac7676d22de49cc5\", element=\"f.E821B770339A9F7AB75AE79D902E927C.d.0C546FB69EA0AE0238CE76835352208B.e.57\")>\n",
      "Link Text: Avoidant Personality Disorder\n",
      "Link URL: https://my.clevelandclinic.org/health/diseases/9761-avoidant-personality-disorder\n",
      "Description: Avoidant personality disorder is marked by poor self-esteem and an intense fear of rejection, possibly due to a combination of genetics and environment.\n",
      "-----------\n",
      "https://my.clevelandclinic.org/health/diseases/9761-avoidant-personality-disorder#overview\n",
      "What is avoidant personality disorder?\n",
      "Avoidant personality disorder (AVPD) is a mental health condition that involves chronic feelings of inadequacy and extreme sensitivity to criticism. People with AVPD would like to interact with others, but they tend to avoid social interactions due to their intense fear of rejection.\n",
      "\n",
      "AVPD is one of a group of conditions called “Cluster C” personality disorders. They involve anxiety and fear. Personality disorders are lasting patterns of behavior that are out of touch with cultural norms (how we’re expected to act) and develop in childhood or adolescence. They cause distress for the person with the condition and/or those around them.\n",
      "\n",
      "Avoidant personality disorder and social anxiety disorder (SAD) share similar features and behaviors. But they’re distinct conditions.\n",
      "\n",
      "Social anxiety disorder (social phobia) happens when you have an intense and ongoing fear of being judged and watched by others. This leads people with SAD to avoid social situations.\n",
      "\n",
      "People with AVPD also avoid social situations and relationships. But it has more to do with their low self-esteem than with anxiety. Anxiety is the core feature behind SAD, but it doesn’t have to be present with AVPD\n",
      "\n",
      "Researchers once thought that AVPD was a severe form of SAD. But studies show that roughly two-thirds of people with AVPD don’t meet the standard diagnostic criteria for SAD according to the DSM-5.\n",
      "\n",
      "But a person can have both AVPD and SAD. People with both conditions have more severe symptoms than those with just one.\n",
      "How common is avoidant personality disorder?\n",
      "Researchers estimate that about 1.5% to 2.5% of the U.S. population has avoidant personality disorder.\n",
      "Who does avoidant personality disorder affect?\n",
      "Avoidant personality disorder usually begins in your late teens or early 20s. AVPD is also more likely to affect people with any of the following mental health conditions:\n",
      "https://my.clevelandclinic.org/health/diseases/9761-avoidant-personality-disorder#symptoms-and-causes\n",
      "What are the symptoms of avoidant personality disorder?\n",
      "The main sign of avoidant personality disorder is having such a strong fear of rejection that you choose isolation over being around people. This pattern of behavior can vary from mild to extreme.\n",
      "\n",
      "Other signs and behaviors of avoidant personality disorder include:\n",
      "What causes avoidant personality disorder?\n",
      "Personality disorders, including AVPD, are among the least understood mental health conditions.\n",
      "\n",
      "Researchers are still trying to figure out the cause exact of them, but they think AVPD develops due to several factors, including:\n",
      "https://my.clevelandclinic.org/health/diseases/9761-avoidant-personality-disorder#diagnosis-and-tests\n",
      "How is avoidant personality disorder diagnosed?\n",
      "Personality continues to evolve throughout child and adolescent development. Because of this, healthcare providers don’t typically diagnose someone with avoidant personality disorder until after the age of 18. Providers need evidence that these patterns of behavior are enduring and inflexible and don’t fade with time.\n",
      "\n",
      "Personality disorders, including avoidant personality disorder, can be difficult to diagnose. This is because most people with one don’t think there’s a problem with their behavior or way of thinking.\n",
      "\n",
      "When they do seek help, it’s often due to conditions such as anxiety or depression from the problems created by their personality disorder, like isolation or a lack of friends.\n",
      "\n",
      "When a mental health professional, such as a psychologist or psychiatrist, suspects someone might have avoidant personality disorder, they often ask broad, general questions that won’t create an environment that the person might think of as critical or embarrassing. They ask questions that will shed light on:\n",
      "\n",
      "A person suspected of having avoidant personality disorder may lack insight into their behaviors and thought patterns. So, mental health professionals often work with the person’s family and friends to collect more information about their behaviors and history.\n",
      "\n",
      "Mental health providers base a diagnosis of avoidant personality disorder on the criteria for the condition in the American Psychiatric Association’s Diagnostic and Statistical Manual of Mental Disorders (DSM-5).\n",
      "\n",
      "Diagnostic criteria for avoidant personality disorder involve a persistent pattern of at least four of the following behaviors:\n",
      "https://my.clevelandclinic.org/health/diseases/9761-avoidant-personality-disorder#management-and-treatment\n",
      "What is the treatment for avoidant personality disorder?\n",
      "Treating personality disorders is difficult because people with these conditions have deep-rooted patterns of thinking and behavior that have existed for many years.\n",
      "\n",
      "However, people with avoidant personality disorder tend to be good candidates for treatment because the condition causes them significant distress. And most people with AVPD want to develop relationships. This desire can be a motivating factor for people with AVPD to follow their treatment plans, which will likely include psychotherapy and, potentially, medication.\n",
      "\n",
      "Treatment for people with this condition is most effective when family members are involved and supportive.\n",
      "\n",
      "Psychotherapy (talk therapy) is the treatment of choice for personality disorders. The goal of treatment is to help you uncover the motivations and fears associated with your thoughts and behavior. In addition, you can learn to relate to others more positively.\n",
      "\n",
      "Two specific types of psychotherapy that can help people with AVPD include:\n",
      "\n",
      "There’s currently no medication that can treat personality disorders. But there’s medication for depression and anxiety, which people with avoidant personality disorder may also have. Treating these conditions can make it easier to treat AVPD.\n",
      "\n",
      "For the best results, however, you should take medication in combination with psychotherapy.\n",
      "https://my.clevelandclinic.org/health/diseases/9761-avoidant-personality-disorder#prevention\n",
      "Can avoidant personality disorder be prevented?\n",
      "You can’t prevent avoidant personality disorder. But treatment can help lessen the issues it causes. Seeking help as soon as symptoms appear can help decrease the disruption to the person’s life, family and friendships.\n",
      "https://my.clevelandclinic.org/health/diseases/9761-avoidant-personality-disorder#outlook-prognosis\n",
      "What is the prognosis for people with avoidant personality disorder?\n",
      "The prognosis (outlook) for AVPD depends on if it’s treated or not.\n",
      "\n",
      "Left untreated, AVPD may result in:\n",
      "\n",
      "People with AVPD also experience higher rates of suicidal ideation and suicide attempts. If you or a loved one are thinking about suicide, dial 988 on your phone to reach the Suicide and Crisis Lifeline. Someone is available to help you 24/7.\n",
      "\n",
      "Treatment for avoidant personality disorder is a long process. Your willingness to seek and stay with treatment can have a significant effect on your outlook. With treatment, some people with AVPD can learn to relate to others more healthily.\n",
      "<selenium.webdriver.remote.webelement.WebElement (session=\"3f1e9ce327b958dcac7676d22de49cc5\", element=\"f.E821B770339A9F7AB75AE79D902E927C.d.0C546FB69EA0AE0238CE76835352208B.e.58\")>\n",
      "Link Text: Antisocial Personality Disorder (ASPD)\n",
      "Link URL: https://my.clevelandclinic.org/health/diseases/9657-antisocial-personality-disorder\n",
      "Description: Antisocial personality disorder (ASPD) is a mental health condition that causes negative behaviors without remorse. Treatment is available.\n",
      "-----------\n",
      "https://my.clevelandclinic.org/health/diseases/9657-antisocial-personality-disorder#overview\n",
      "What is antisocial personality disorder (ASPD)?\n",
      "Antisocial personality disorder (ASPD) is a mental health condition that can affect the way you think and interact with others and lead you to:\n",
      "\n",
      "It’s common for people diagnosed with ASPD to show a lack of respect toward others, break the law, ignore the consequences of their actions or refuse to take responsibility. ASPD can be dangerous since you’re at a high risk of causing physical or emotional harm to yourself and those around you.\n",
      "\n",
      "Antisocial personality disorder is one of many personality disorders. Personality disorders affect the way you think or behave.\n",
      "\n",
      "Antisocial personality disorder affects an estimated 1% to 4% of adults in the U.S.\n",
      "https://my.clevelandclinic.org/health/diseases/9657-antisocial-personality-disorder#symptoms-and-causes\n",
      "What are the symptoms of antisocial personality disorder?\n",
      "Symptoms of antisocial personality disorder may include:\n",
      "\n",
      "Antisocial personality disorder may look different for each person who experiences it. You might lean more toward certain behaviors than others.\n",
      "\n",
      "If at any point, you feel the urge to hurt yourself or others, reach out for help. Contact a healthcare provider or call the Suicide and Crisis Lifeline by dialing or texting 988 (U.S.). Someone is available to talk with you 24 hours a day, seven days a week. If you or a loved one is in immediate danger, call 911 or your local emergency services number.\n",
      "\n",
      "Antisocial personality disorder usually begins before age 15. The initial diagnosis is conduct disorder. Children with conduct disorder show a pattern of aggressive or disobedient behavior that can harm others. They may lie, steal, ignore rules or bully other children. Two behaviors that are warning signs of ASPD during childhood are setting fires and animal cruelty.\n",
      "\n",
      "Sometimes parents or healthcare providers miss the signs of conduct disorder. The signs may overlap with other conditions, like:\n",
      "\n",
      "When a conduct disorder diagnosis occurs and treatment begins early in childhood, there’s a chance the behaviors may not continue into adulthood. If they do, the diagnosis becomes antisocial personality disorder after age 18.\n",
      "\n",
      "Studies suggest that symptoms of ASPD are the worst between ages 20 to 40 and tend to improve after age 40.\n",
      "What causes antisocial personality disorder?\n",
      "Healthcare providers aren’t sure of the exact cause of antisocial personality disorder. Research suggests it may involve many different factors, from your genetic composition to certain experiences you had growing up. One leading factor is brain biology. You may have abnormal levels of serotonin in your brain. Serotonin is a chemical that regulates your mood and feelings of happiness. Changes to the amount of serotonin in your brain may cause antisocial personality disorder behaviors.\n",
      "\n",
      "Your genetic makeup may make it more likely for you to develop antisocial personality disorder. Research is ongoing to learn more about how your genes can contribute to this condition, but the exact genes responsible are yet to be identified. Studies found that your risk increases if you have a biological relative with ASPD.\n",
      "\n",
      "Antisocial personality disorder can affect anyone. You may be more at risk of developing the condition if you:\n",
      "What are the complications of antisocial personality disorder?\n"
     ]
    }
   ],
   "source": [
    "# search_input = driver.find_element(By.ID, 'search-input')\n",
    "# search_input.clear()\n",
    "# search_input.send_keys('a')\n",
    "\n",
    "site_hits = driver.find_elements(By.ID, 'site-hits')  # Replace with actual CSS selector\n",
    "\n",
    "articles = site_hits[0].find_elements(By.CLASS_NAME, 'search-results-article')\n",
    "\n",
    "for article in articles:\n",
    "    # Find the link element within the article\n",
    "    link_element = article.find_element(By.CSS_SELECTOR, 'h2.search-results-article__title a')\n",
    "    link_text = link_element.text\n",
    "    link_href = link_element.get_attribute('href')\n",
    "    \n",
    "    # Find the description element within the article\n",
    "    description_element = article.find_element(By.CSS_SELECTOR, 'p.search-results-article__description')\n",
    "    description_text = description_element.text\n",
    "    \n",
    "    # Print the extracted details\n",
    "    print(\"Link Text:\", link_text)\n",
    "    print(\"Link URL:\", link_href)\n",
    "    print(\"Description:\", description_text)\n",
    "    print(\"-----------\")\n",
    "    # Open the link in a new tab\n",
    "    # driver.execute_script(\"window.open(arguments[0]);\", link_href)\n",
    "    \n",
    "    # # Switch to the new tab\n",
    "    # driver.switch_to.window(driver.window_handles[-1])\n",
    "    \n",
    "    link_element.click()\n",
    "    \n",
    "    \n",
    "    try:\n",
    "        nav_element = driver.find_element(By.CSS_SELECTOR, 'nav.flex.flex-wrap.gap-y-rem16px.gap-x-rem32px')\n",
    "        anchor_elements = nav_element.find_elements(By.TAG_NAME, \"a\")\n",
    "        href_values = [anchor.get_attribute('href') for anchor in anchor_elements]\n",
    "        for href in href_values:\n",
    "            print(href)\n",
    "            sub_titles = driver.find_elements(By.ID, href.split(\"#\")[1])\n",
    "            for sub_title in sub_titles:\n",
    "                questions = sub_title.find_elements(By.TAG_NAME, \"h3\")\n",
    "            # print(check[0].text)\n",
    "                for question in questions:\n",
    "                    \n",
    "                    print(question.text)\n",
    "                    sibling = question.find_element(By.XPATH, 'following-sibling::*[1]')\n",
    "                    # break\n",
    "                    paragraphs = []\n",
    "                    while sibling and sibling.tag_name != \"h3\":\n",
    "                        if sibling.tag_name == \"p\":\n",
    "                            paragraphs.append(sibling.text)\n",
    "                        try:\n",
    "                        # Move to the next sibling\n",
    "                            sibling = sibling.find_element(By.XPATH, 'following-sibling::*[1]')\n",
    "                        except:\n",
    "                        # If there are no more siblings, break the loop\n",
    "                            break\n",
    "                    paragraphs_text = '\\n\\n'.join(paragraphs)\n",
    "                    print(paragraphs_text)\n",
    "            # break\n",
    "    except Exception as e:\n",
    "        print(\"An error occured:\", e)\n",
    "\n",
    "    # finally:\n",
    "    driver.back()\n",
    "    driver.implicitly_wait(10)\n",
    "    print(article)\n",
    "# driver.quit()"
   ]
  },
  {
   "cell_type": "code",
   "execution_count": 233,
   "metadata": {},
   "outputs": [
    {
     "data": {
      "text/plain": [
       "<selenium.webdriver.remote.webelement.WebElement (session=\"792b72fea5299c3520eaafce3957069b\", element=\"f.C63C598AEA3E6EAEBE893A41BC2FF9B0.d.DF332933E857469D42EF6E1CBC085CB1.e.52\")>"
      ]
     },
     "execution_count": 233,
     "metadata": {},
     "output_type": "execute_result"
    }
   ],
   "source": [
    "article"
   ]
  },
  {
   "cell_type": "code",
   "execution_count": 160,
   "metadata": {},
   "outputs": [
    {
     "data": {
      "text/plain": [
       "'What is anorexia nervosa?'"
      ]
     },
     "execution_count": 160,
     "metadata": {},
     "output_type": "execute_result"
    }
   ],
   "source": [
    "h3_elements = driver.find_elements(By.TAG_NAME, 'h3')\n",
    "h3_elements[0].text"
   ]
  },
  {
   "cell_type": "code",
   "execution_count": 137,
   "metadata": {},
   "outputs": [
    {
     "data": {
      "text/plain": [
       "[<selenium.webdriver.remote.webelement.WebElement (session=\"e276f70ac2ef3c795164b17cbb6a7367\", element=\"f.A2698ED6A54C9A9EB378F9C3AB82F685.d.58008A1989EE18C7710ED245A3E72D3C.e.57\")>,\n",
       " <selenium.webdriver.remote.webelement.WebElement (session=\"e276f70ac2ef3c795164b17cbb6a7367\", element=\"f.A2698ED6A54C9A9EB378F9C3AB82F685.d.58008A1989EE18C7710ED245A3E72D3C.e.58\")>,\n",
       " <selenium.webdriver.remote.webelement.WebElement (session=\"e276f70ac2ef3c795164b17cbb6a7367\", element=\"f.A2698ED6A54C9A9EB378F9C3AB82F685.d.58008A1989EE18C7710ED245A3E72D3C.e.59\")>,\n",
       " <selenium.webdriver.remote.webelement.WebElement (session=\"e276f70ac2ef3c795164b17cbb6a7367\", element=\"f.A2698ED6A54C9A9EB378F9C3AB82F685.d.58008A1989EE18C7710ED245A3E72D3C.e.60\")>,\n",
       " <selenium.webdriver.remote.webelement.WebElement (session=\"e276f70ac2ef3c795164b17cbb6a7367\", element=\"f.A2698ED6A54C9A9EB378F9C3AB82F685.d.58008A1989EE18C7710ED245A3E72D3C.e.61\")>,\n",
       " <selenium.webdriver.remote.webelement.WebElement (session=\"e276f70ac2ef3c795164b17cbb6a7367\", element=\"f.A2698ED6A54C9A9EB378F9C3AB82F685.d.58008A1989EE18C7710ED245A3E72D3C.e.62\")>]"
      ]
     },
     "execution_count": 137,
     "metadata": {},
     "output_type": "execute_result"
    }
   ],
   "source": [
    "check= driver.find_elements(By.CSS_SELECTOR, \".container\")\n",
    "check"
   ]
  },
  {
   "cell_type": "code",
   "execution_count": 127,
   "metadata": {},
   "outputs": [],
   "source": [
    "check[1].get_attribute('href')"
   ]
  },
  {
   "cell_type": "code",
   "execution_count": 50,
   "metadata": {},
   "outputs": [],
   "source": [
    "brow_button.click()"
   ]
  },
  {
   "cell_type": "code",
   "execution_count": null,
   "metadata": {},
   "outputs": [],
   "source": [
    "message = driver.find_element(by=By.ID, value=\"e9df0287-0bfa-4a2e-85a0-171d0d38aeb8js-a\")"
   ]
  },
  {
   "cell_type": "code",
   "execution_count": 24,
   "metadata": {},
   "outputs": [
    {
     "data": {
      "text/plain": [
       "'<section class=\"library-search-nav\">\\n        <button class=\"library-search-nav__search-btn js-library-search-nav__search-btn button\">Search</button>\\n        <button class=\"library-search-nav__browse-btn js-library-search-nav__browse-btn button--secondary\">Browse A-Z</button>\\n    </section>'"
      ]
     },
     "execution_count": 24,
     "metadata": {},
     "output_type": "execute_result"
    }
   ],
   "source": [
    "html_content = inps.get_attribute('outerHTML')\n",
    "html_content"
   ]
  },
  {
   "cell_type": "code",
   "execution_count": 25,
   "metadata": {},
   "outputs": [
    {
     "name": "stdout",
     "output_type": "stream",
     "text": [
      "Class Name: library-search-nav\n"
     ]
    }
   ],
   "source": [
    "class_name = inps.get_attribute('class')\n",
    "print(\"Class Name:\", class_name)"
   ]
  },
  {
   "cell_type": "code",
   "execution_count": 12,
   "metadata": {},
   "outputs": [
    {
     "name": "stdout",
     "output_type": "stream",
     "text": [
      "<selenium.webdriver.remote.webelement.WebElement (session=\"af9ae2a165c802060dec7024c8b8eab7\", element=\"f.EEC7A52C4BC95C26113ACB150DB60F30.d.D31BDB868F95F97C032405255CCF7649.e.52\")>\n",
      "[]\n"
     ]
    }
   ],
   "source": [
    "# Function to search and retrieve results for each letter\n",
    "def search_and_retrieve(letter):\n",
    "    # Locate the search bar element\n",
    "    search_input = driver.find_element(By.ID, 'search-input')\n",
    "    print(search_input)\n",
    "    # Clear any pre-filled text and enter the letter\n",
    "    search_input.clear()\n",
    "    search_input.send_keys(letter)\n",
    "    \n",
    "    # Simulate pressing Enter key (if needed)\n",
    "    search_input.send_keys(Keys.RETURN)\n",
    "    \n",
    "    # Wait for the search results to load\n",
    "    time.sleep(2)  # Adjust the sleep time as necessary\n",
    "    \n",
    "    # Get the search results\n",
    "    results = driver.find_elements(By.CSS_SELECTOR, '.RESULT_ITEM_SELECTOR')  # Replace with actual CSS selector\n",
    "    print(results)\n",
    "    \n",
    "    # # Iterate through each result and perform actions\n",
    "    # for result in results:\n",
    "    #     result_text = result.text\n",
    "    #     print(f\"Result: {result_text}\")\n",
    "        \n",
    "    #     # Click on the result to navigate to the detail page\n",
    "    #     result.click()\n",
    "        \n",
    "    #     # Wait for the page to load\n",
    "    #     time.sleep(2)\n",
    "        \n",
    "    #     # Perform checks or extract information from the detail page\n",
    "    #     # For example, you can print the page title\n",
    "    #     print(f\"Page Title: {driver.title}\")\n",
    "        \n",
    "    #     # Navigate back to the search results page\n",
    "    #     driver.back()\n",
    "        \n",
    "    #     # Wait for the search results page to load\n",
    "    #     time.sleep(2)\n",
    "\n",
    "# Loop through letters a to z\n",
    "for letter in 'a':\n",
    "    search_and_retrieve(letter)\n"
   ]
  },
  {
   "cell_type": "code",
   "execution_count": 5,
   "metadata": {},
   "outputs": [],
   "source": []
  },
  {
   "cell_type": "code",
   "execution_count": 6,
   "metadata": {},
   "outputs": [
    {
     "ename": "NameError",
     "evalue": "name 'search_and_retrieve' is not defined",
     "output_type": "error",
     "traceback": [
      "\u001b[0;31m---------------------------------------------------------------------------\u001b[0m",
      "\u001b[0;31mNameError\u001b[0m                                 Traceback (most recent call last)",
      "Cell \u001b[0;32mIn[6], line 2\u001b[0m\n\u001b[1;32m      1\u001b[0m \u001b[39mfor\u001b[39;00m letter \u001b[39min\u001b[39;00m \u001b[39m'\u001b[39m\u001b[39mabcdefghijklmnopqrstuvwxyz\u001b[39m\u001b[39m'\u001b[39m:\n\u001b[0;32m----> 2\u001b[0m     search_and_retrieve(letter)\n",
      "\u001b[0;31mNameError\u001b[0m: name 'search_and_retrieve' is not defined"
     ]
    }
   ],
   "source": [
    "for letter in 'abcdefghijklmnopqrstuvwxyz':\n",
    "    search_and_retrieve(letter)"
   ]
  },
  {
   "cell_type": "code",
   "execution_count": 2,
   "metadata": {},
   "outputs": [],
   "source": [
    "datas = {anchor: {} for anchor in [1, 2]}\n"
   ]
  },
  {
   "cell_type": "code",
   "execution_count": 3,
   "metadata": {},
   "outputs": [
    {
     "data": {
      "text/plain": [
       "{1: {}, 2: {}}"
      ]
     },
     "execution_count": 3,
     "metadata": {},
     "output_type": "execute_result"
    }
   ],
   "source": [
    "datas"
   ]
  },
  {
   "cell_type": "code",
   "execution_count": 4,
   "metadata": {},
   "outputs": [
    {
     "name": "stdout",
     "output_type": "stream",
     "text": [
      "1 3\n",
      "2 4\n"
     ]
    }
   ],
   "source": [
    "for x, y in zip([1, 2], [3, 4]):\n",
    "    print(x, y)"
   ]
  },
  {
   "cell_type": "code",
   "execution_count": null,
   "metadata": {},
   "outputs": [],
   "source": []
  }
 ],
 "metadata": {
  "kernelspec": {
   "display_name": "llm",
   "language": "python",
   "name": "python3"
  },
  "language_info": {
   "codemirror_mode": {
    "name": "ipython",
    "version": 3
   },
   "file_extension": ".py",
   "mimetype": "text/x-python",
   "name": "python",
   "nbconvert_exporter": "python",
   "pygments_lexer": "ipython3",
   "version": "3.11.3"
  },
  "orig_nbformat": 4
 },
 "nbformat": 4,
 "nbformat_minor": 2
}
